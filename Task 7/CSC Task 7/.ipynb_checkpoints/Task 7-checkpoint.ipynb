{
 "cells": [
  {
   "cell_type": "code",
   "execution_count": 1,
   "metadata": {},
   "outputs": [
    {
     "name": "stdout",
     "output_type": "stream",
     "text": [
      "Collecting veryfi\n",
      "  Downloading veryfi-0.0.5.tar.gz (8.0 kB)\n",
      "Requirement already satisfied: requests in c:\\users\\user\\anaconda3\\lib\\site-packages (from veryfi) (2.21.0)\n",
      "Requirement already satisfied: certifi>=2017.4.17 in c:\\users\\user\\anaconda3\\lib\\site-packages (from requests->veryfi) (2020.4.5.1)\n",
      "Requirement already satisfied: urllib3<1.25,>=1.21.1 in c:\\users\\user\\anaconda3\\lib\\site-packages (from requests->veryfi) (1.24.1)\n",
      "Requirement already satisfied: idna<2.9,>=2.5 in c:\\users\\user\\anaconda3\\lib\\site-packages (from requests->veryfi) (2.8)\n",
      "Requirement already satisfied: chardet<3.1.0,>=3.0.2 in c:\\users\\user\\anaconda3\\lib\\site-packages (from requests->veryfi) (3.0.4)\n",
      "Building wheels for collected packages: veryfi\n",
      "  Building wheel for veryfi (setup.py): started\n",
      "  Building wheel for veryfi (setup.py): finished with status 'done'\n",
      "  Created wheel for veryfi: filename=veryfi-0.0.5-py3-none-any.whl size=7546 sha256=ae6ab51236414316782187c3631837983baf62152cb8ac2855e6b5ec0546add0\n",
      "  Stored in directory: c:\\users\\user\\appdata\\local\\pip\\cache\\wheels\\83\\92\\e2\\f742deea80595a9c680ac137fc4eb73b4b6449402e9113ec80\n",
      "Successfully built veryfi\n",
      "Installing collected packages: veryfi\n",
      "Successfully installed veryfi-0.0.5\n",
      "Note: you may need to restart the kernel to use updated packages.\n"
     ]
    }
   ],
   "source": [
    "pip install veryfi"
   ]
  },
  {
   "cell_type": "code",
   "execution_count": 1,
   "metadata": {
    "scrolled": true
   },
   "outputs": [
    {
     "name": "stdout",
     "output_type": "stream",
     "text": [
      "{'abn_number': '', 'account_number': '', 'bill_to_address': '', 'bill_to_name': '', 'bill_to_vat_number': '', 'card_number': '7373', 'cashback': 0.0, 'category': '', 'created': '2021-01-08 08:06:57', 'currency_code': 'USD', 'date': '2018-10-17 09:03:00', 'delivery_date': '', 'discount': 0.0, 'document_reference_number': '4341505054414C204F4', 'due_date': '', 'external_id': '', 'id': 31360358, 'img_file_name': 'b9038bd5-42d5-4efd-b6ea-e2548946dac2.png', 'img_thumbnail_url': 'https://scdn.veryfi.com/receipts/b9038bd5-42d5-4efd-b6ea-e2548946dac2_1_t.png?Expires=1610093277&Signature=Z7~mnKg-u2gJOSF8Hda0hyNczyFVVbaGP2k1Vl5FeHtyhyplKxcer-sO0vvObeemboIuPEcGMrhgmUnsPdHlDkAZoYdFzAEJgohVnp3~5zZmh0JHFhVNiv3VkjFUH3Lyko6jk-0LS-X9xQ82h9079ckBH7ykwTW6vXB7s2jVQkA6rcEqqDn1rP12hKPaxAFbfO25Ae4Mj58NW7XK-7iGrQNi0ph36VfsYjILCsQdxAgcB4OUNzaOCbiz6V5p5sC33j41p0KeJFy3~Z1WrGNv33foW0pIi9ksM24Y98fXfq3R9c5ITw5MwfSo5GvBuqyigSD-zIsk8x-dAjCX06cLQw__&Key-Pair-Id=APKAJCILBXEJFZF4DCHQ', 'img_url': 'https://scdn.veryfi.com/receipts/b9038bd5-42d5-4efd-b6ea-e2548946dac2.png?Expires=1610093277&Signature=SbWcRYDTaSoC16qF9HVspmAq5rfnUrVsi-d5hPCrpFPG2Q-v9nQzO4K9ncsjQvKSrsFI1e16O~MVFja0xnZBigGNBamMvaIC63ZDc5CIS4EYSf3wXxEkPzatNO2P5WFFYXRK0DywFc75n-5esyUCCg2VWoeM3ZG6b1POml-RwOKQG3vqfTqOBDqTyH93wUjSsFeOUTWMyXgcR1o9KAVtHA7w0lDH7bSW0~eFn2YWbKKHobL-G0vsxpwHXkjWRLihJ7aADNkl7Asa4poh95FwgEPCs7Sn1yN1skR1G0ExtYh-BPz3gHNL6KUtg7nfH3KzAYSkTNWapVWyJfCB8Jt9TQ__&Key-Pair-Id=APKAJCILBXEJFZF4DCHQ', 'insurance': '', 'invoice_number': '17717', 'line_items': [{'date': '', 'description': 'SNIP LEFT <A>\\nWISS LEFT-CUT SNIPS', 'discount': 4.0, 'id': 31365479, 'order': 0, 'price': 0.0, 'quantity': 1.0, 'reference': '', 'sku': '037103136480', 'tax': 0.0, 'tax_rate': 0.0, 'total': 9.97, 'type': 'product', 'unit_of_measure': ''}, {'date': '', 'description': 'MILW5PCKBLDG <A>\\nMKE 5PK GENERAL PURPOSE BLADES', 'discount': 0.0, 'id': 31365480, 'order': 1, 'price': 0.0, 'quantity': 1.0, 'reference': '', 'sku': '045242268061', 'tax': 0.0, 'tax_rate': 0.0, 'total': 1.18, 'type': 'product', 'unit_of_measure': ''}, {'date': '', 'description': '1LB. SCREW <A>\\nEB NEO SELF-DRILLING 12X1', 'discount': 0.0, 'id': 31365481, 'order': 2, 'price': 0.0, 'quantity': 1.0, 'reference': '', 'sku': '038902058966', 'tax': 0.0, 'tax_rate': 0.0, 'total': 10.57, 'type': 'product', 'unit_of_measure': ''}, {'date': '', 'description': '1LB. SCREW <A>\\nEB NEO SELF-DRILLING 12X3/4', 'discount': 0.0, 'id': 31365482, 'order': 3, 'price': 0.0, 'quantity': 1.0, 'reference': '', 'sku': '038902058959', 'tax': 0.0, 'tax_rate': 0.0, 'total': 10.57, 'type': 'product', 'unit_of_measure': ''}], 'ocr_text': 'HOME\\nTHE\\nDEPOT\\nMore saving.\\n® More doing.\"\\n2250 SOUTHGATE RD, COLORADO SPRINGS, CO\\nBECKY NATION STOREMANAGER 719-471-0054\\n1518 00000 17717 10/17/18 09:03 AM\\nSELF CHECK OUT\\n037103136480 SNIP LEFT <A>\\t9.97\\nWISS LEFT-CUT SNIPS\\nNLP Savings $4.00\\n045242268061 MILW5PCKBLDG <A>\\t1.18\\nMKE 5PK GENERAL PURPOSE BLADES\\n038902058966 1LB. SCREW <A>\\t10.57\\nEB NEO SELF-DRILLING 12X1\\n038902058959 1LB. SCREW <A>\\t10.57\\nEB NEO SELF-DRILLING 12X3/4\\nSUBTOTAL\\t32.29\\nSALES TAX\\t2.66\\nTOTAL\\t$34.95\\nXXXXXXXXXXXX7373 VISA\\n\\tUSD$ 34.95\\nAUTH CODE 025972/8585391\\tTA\\nAID A0000003131010 4341505054414C204F4\\nE452050595341\\n', 'order_date': '', 'payment_display_name': 'Visa ***7373', 'payment_terms': '', 'payment_type': 'visa', 'phone_number': '719-471-0054', 'purchase_order_number': '', 'rounding': 0.0, 'service_end_date': '', 'service_start_date': '', 'ship_date': '', 'ship_to_address': '', 'ship_to_name': '', 'shipping': 0.0, 'subtotal': 32.29, 'tax': 2.66, 'tax_lines': [{'name': 'SALES', 'order': 0, 'rate': 0.0, 'total': 2.66}], 'tip': 0.0, 'total': 34.95, 'total_weight': '', 'tracking_number': '', 'vat_number': '', 'vendor': {'address': '2250 Southgate Rd, Colorado Springs, CO 80906, United States', 'category': 'Nurseries & Gardening', 'email': '', 'fax_number': '', 'name': 'The Home Depot', 'phone_number': '719-471-0054', 'raw_name': 'Home Depot', 'vendor_logo': 'https://cdn.veryfi.com/logos/us/051435926.jpg', 'vendor_reg_number': '', 'vendor_type': 'hardware store', 'web': ''}, 'vendor_account_number': '', 'vendor_bank_name': '', 'vendor_bank_number': '', 'vendor_bank_swift': '', 'vendor_iban': ''}\n"
     ]
    }
   ],
   "source": [
    "from veryfi import Client\n",
    "\n",
    "client_id = ''\n",
    "client_secret = ''\n",
    "username = 'nicoleooi2001'\n",
    "api_key = ''\n",
    "categories = ['Grocery', 'Utilities', 'Travel']\n",
    "file_path = 'bill.png'\n",
    "\n",
    "# This submits document for processing (takes 3-5 seconds to get response)\n",
    "veryfi_client = Client(client_id, client_secret, username, api_key)\n",
    "response = veryfi_client.process_document(file_path, categories=categories)\n",
    "print (response)"
   ]
  },
  {
   "cell_type": "code",
   "execution_count": null,
   "metadata": {},
   "outputs": [],
   "source": []
  }
 ],
 "metadata": {
  "kernelspec": {
   "display_name": "Python 3",
   "language": "python",
   "name": "python3"
  },
  "language_info": {
   "codemirror_mode": {
    "name": "ipython",
    "version": 3
   },
   "file_extension": ".py",
   "mimetype": "text/x-python",
   "name": "python",
   "nbconvert_exporter": "python",
   "pygments_lexer": "ipython3",
   "version": "3.7.7"
  }
 },
 "nbformat": 4,
 "nbformat_minor": 4
}
